{
 "cells": [
  {
   "cell_type": "code",
   "execution_count": 37,
   "metadata": {
    "collapsed": true,
    "deletable": true,
    "editable": true
   },
   "outputs": [],
   "source": [
    "import pandas as pd\n",
    "import time\n",
    "import seaborn as sns\n",
    "import matplotlib.pyplot as plt\n",
    "import datetime\n",
    "import numpy as np\n",
    "\n",
    "from sklearn.preprocessing import LabelEncoder\n",
    "from sklearn.model_selection import train_test_split\n",
    "\n",
    "import itertools\n",
    "import warnings\n",
    "\n",
    "\n",
    "plt.style.use('fivethirtyeight')\n",
    "warnings.filterwarnings(\"ignore\")"
   ]
  },
  {
   "cell_type": "code",
   "execution_count": 5,
   "metadata": {
    "collapsed": false,
    "deletable": true,
    "editable": true
   },
   "outputs": [
    {
     "name": "stderr",
     "output_type": "stream",
     "text": [
      "Using TensorFlow backend.\n"
     ]
    }
   ],
   "source": [
    "from keras.models import Sequential\n",
    "from keras.layers import Dense, Dropout, Activation"
   ]
  },
  {
   "cell_type": "code",
   "execution_count": 41,
   "metadata": {
    "collapsed": true,
    "deletable": true,
    "editable": true
   },
   "outputs": [],
   "source": [
    "def build_model(input_dim=10):\n",
    "    \n",
    "    model = Sequential()\n",
    "    model.add(Dense(500, activation='relu', input_dim=input_dim))\n",
    "    model.add(Dropout(0.5))\n",
    "    model.add(Dense(200, activation='relu'))\n",
    "    model.add(Dropout(0.5))\n",
    "    model.add(Dense(40, activation='relu'))\n",
    "    model.add(Dense(20, activation='relu'))\n",
    "    model.add(Dense(1, activation='sigmoid'))\n",
    "    \n",
    "    model.compile(loss='binary_crossentropy',\n",
    "              optimizer='rmsprop',\n",
    "              metrics=['accuracy'])\n",
    "    return model"
   ]
  },
  {
   "cell_type": "code",
   "execution_count": 59,
   "metadata": {
    "collapsed": true
   },
   "outputs": [],
   "source": [
    "def train_model(model, sample):\n",
    "    \n",
    "    encoder = LabelEncoder()\n",
    "    encoder.fit(sample['signal'])\n",
    "    encoded_Y = encoder.transform(sample['signal'])\n",
    "    \n",
    "    print(sample['time_series'].shape)\n",
    "    print(encoded_Y.shape)\n",
    "    x_train, x_test, y_train, y_test = train_test_split(sample['time_series'], encoded_Y, test_size=0.33)\n",
    "    model.fit(x_train, y_train, epochs=300, batch_size=10)\n",
    "    score = model.evaluate(x_test, y_test, batch_size=10)\n",
    "    return model, score"
   ]
  },
  {
   "cell_type": "code",
   "execution_count": 31,
   "metadata": {
    "collapsed": true
   },
   "outputs": [],
   "source": [
    "def get_data(start_date='20150901'):\n",
    "    \n",
    "    source = \"https://coinmarketcap.com/currencies/bitcoin/historical-data/?start={0}&end=\".format(start_date)\n",
    "    bitcoin_market_info = pd.read_html(source + time.strftime(\"%Y%m%d\"))[0]\n",
    "    bitcoin_market_info = bitcoin_market_info.assign(Date=pd.to_datetime(bitcoin_market_info['Date']))\n",
    "    bitcoin_market_info['Volume'] = bitcoin_market_info['Volume'].astype('int64')\n",
    "    max_price = bitcoin_market_info['Close'].max()\n",
    "    return (np.array(bitcoin_market_info['Close']) / max_price,max_price)"
   ]
  },
  {
   "cell_type": "code",
   "execution_count": 56,
   "metadata": {
    "collapsed": true,
    "deletable": true,
    "editable": true
   },
   "outputs": [],
   "source": [
    "def build_sample(data, day_shift=10):\n",
    "    data_shape = data.shape[0]\n",
    "    shifted_sample = [data[i - day_shift: i] for i in range(data_shape - 1, day_shift, -1)]\n",
    "    signal = [data[i] > data[i-1] for i in range(data_shape - 1, day_shift, -1)]\n",
    "    return {'time_series': np.array(shifted_sample), 'signal': np.array(signal)}"
   ]
  },
  {
   "cell_type": "code",
   "execution_count": 57,
   "metadata": {
    "collapsed": false
   },
   "outputs": [],
   "source": [
    "data, scale = get_data()\n",
    "sample = build_sample(data)\n",
    "model = build_model()"
   ]
  },
  {
   "cell_type": "code",
   "execution_count": null,
   "metadata": {
    "collapsed": true
   },
   "outputs": [],
   "source": [
    "train_model(model, sample)"
   ]
  }
 ],
 "metadata": {
  "kernelspec": {
   "display_name": "Python 3",
   "language": "python",
   "name": "python3"
  },
  "language_info": {
   "codemirror_mode": {
    "name": "ipython",
    "version": 3
   },
   "file_extension": ".py",
   "mimetype": "text/x-python",
   "name": "python",
   "nbconvert_exporter": "python",
   "pygments_lexer": "ipython3",
   "version": "3.5.2"
  }
 },
 "nbformat": 4,
 "nbformat_minor": 2
}
